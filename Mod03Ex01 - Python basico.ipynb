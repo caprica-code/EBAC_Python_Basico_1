{
 "cells": [
  {
   "cell_type": "markdown",
   "metadata": {},
   "source": [
    "### 01 - Teste de gravidez\n",
    "Escreva uma célula com controle de fluxos que tem como premissa a existência das seguintes variáveis:\n",
    "\n",
    "- ```sexo``` como ```str``` indicando os valores '**M**' para masculino e '**F**' para feminino  \n",
    "- ```beta_hcg``` que indica a quantidade do beta-HCG no sangue em mUI/mL.\n",
    "\n",
    "A sua tarefa é escrever um código que imprima como resultado \"indivíduo do sexo masculino\" quando sexo = 'M', caso sexo = 'F', se o valor de beta-HCG for maior que 5, retorne \"Positivo\" indicando que a paciente está grávida, e retorne \"Negativo\" caso contrário.\n",
    "\n",
    "Não mexa nos valores da variável ```sexo``` nem em ```beta_hcg```, e escreva um código que funcione para quaisquer valores possíveis de ambos: ```sexo``` = '**M**' ou '**F**' e ```beta_hcg``` assumindo valores inteiros positivos."
   ]
  },
  {
   "cell_type": "code",
   "execution_count": 6,
   "metadata": {},
   "outputs": [
    {
     "name": "stdin",
     "output_type": "stream",
     "text": [
      "Qual o Sexo do indivíduo? (M/F):  7\n",
      "\n",
      "Resposta inválida. Por favor, insira \"M\" ou \"F\":  f\n",
      "Qual o Valor do beta hcg?  f\n"
     ]
    },
    {
     "name": "stdout",
     "output_type": "stream",
     "text": [
      "\n",
      "Resposta inválida. Por favor, digite um número inteiro.\n"
     ]
    },
    {
     "name": "stdin",
     "output_type": "stream",
     "text": [
      "Qual o Valor do beta hcg?  9\n"
     ]
    },
    {
     "name": "stdout",
     "output_type": "stream",
     "text": [
      "\n",
      "Positivo\n"
     ]
    }
   ],
   "source": [
    "sexo = 'M'\n",
    "beta_hcg = 0\n",
    "\n",
    "# seu código vem abaixo desta linha\n",
    "\n",
    "while True:\n",
    "    sexo = input('Qual o Sexo do indivíduo? (M/F): ').strip().upper()\n",
    "\n",
    "    # Garantir que a resposta seja M ou F\n",
    "    while sexo not in ['M', 'F']:\n",
    "        sexo = input(\n",
    "            '\\nResposta inválida. Por favor, insira \"M\" ou \"F\": ').strip().upper()[0]\n",
    "    break\n",
    "\n",
    "while True:\n",
    "    beta_hcg = input('Qual o Valor do beta hcg? ').strip()\n",
    "\n",
    "    # Garantir que a resposta seja um número inteiro\n",
    "    if beta_hcg.isdigit():  # Verifica se a string é composta apenas por dígitos\n",
    "        beta_hcg = int(beta_hcg)\n",
    "        break  # Se a conversão for bem-sucedida, sai do loop\n",
    "    else:\n",
    "        print('\\nResposta inválida. Por favor, digite um número inteiro.')\n",
    "\n",
    "\n",
    "if sexo == 'M':\n",
    "    print('\\nindivíduo do sexo masculino')\n",
    "elif sexo == 'F' and beta_hcg <= 5:\n",
    "    print('\\nNegativo')\n",
    "elif sexo == 'F' and beta_hcg > 5:\n",
    "    print('\\nPositivo') \n"
   ]
  },
  {
   "cell_type": "markdown",
   "metadata": {},
   "source": [
    "### 02 - Renomeando variáveis\n",
    "\n",
    "Vamos ver adiante que uma forma de renomear variáveis de um conjunto de dados é através de dicionários - o dicionário deve conter como chave o nome original, associando a cada chave um único valor (tipo *str*) que contenha o nome novo.\n",
    "\n",
    "A sua tarefa é escrever um dicionário que possa ser utilizado para traduzir as variáveis ```name``` (nome), ```age``` (idade) e ```income``` (renda). Ou seja, esse dicionário deve relacionar as chaves *name, age* e *income* às suas respectivas traduções."
   ]
  },
  {
   "cell_type": "code",
   "execution_count": 32,
   "metadata": {},
   "outputs": [
    {
     "name": "stdout",
     "output_type": "stream",
     "text": [
      "Tradução das variaveis\n",
      "name: nome\n",
      "age: idade\n",
      "income: renda\n"
     ]
    },
    {
     "data": {
      "text/plain": [
       "{'name': 'nome', 'age': 'idade', 'income': 'renda'}"
      ]
     },
     "execution_count": 32,
     "metadata": {},
     "output_type": "execute_result"
    }
   ],
   "source": [
    "dic_renomeacao = {'name': 'nome', 'age': 'idade', 'income': 'renda'}\n",
    "\n",
    "print('Tradução das variaveis')\n",
    "for chave in dic_renomeacao:\n",
    "    print(f'{chave}: {dic_renomeacao[chave]}')\n",
    "\n",
    "dic_renomeacao\n"
   ]
  },
  {
   "cell_type": "markdown",
   "metadata": {},
   "source": [
    "### 03 - É divisível?\n",
    "A sua tarefa é escrever um código que indique se um número ```N``` é divisível por um número ```M```. Escreva um programa que faça essa verificação para quaisquer combinações de ```N``` e ```M``` e devolva uma mensagem indicativa no output."
   ]
  },
  {
   "cell_type": "code",
   "execution_count": 53,
   "metadata": {},
   "outputs": [
    {
     "name": "stdin",
     "output_type": "stream",
     "text": [
      "Qual o Valor para a variavel N?  4\n",
      "Qual o Valor para a variavel M?  2\n"
     ]
    },
    {
     "name": "stdout",
     "output_type": "stream",
     "text": [
      "\n",
      "O numero 4 é divisível por 2\n",
      "Resultando em número Inteiro: 2\n"
     ]
    }
   ],
   "source": [
    "N = 42\n",
    "M = 7\n",
    "\n",
    "#Seu código\n",
    "\n",
    "# Função para garantir que o input seja um número inteiro\n",
    "def obter_inteiro(nome_variavel):\n",
    "    while True:\n",
    "        valor = input(f'Qual o Valor para a variavel {nome_variavel}? ').strip()\n",
    "        if valor.isdigit():  # Verifica se a string é composta apenas por dígitos\n",
    "            return int(valor)  # Retorna o valor convertido para inteiro\n",
    "        else:\n",
    "            print('\\nResposta inválida. Por favor, digite um número inteiro.')\n",
    "\n",
    "# Obtendo os valores para N e M\n",
    "N = obter_inteiro(\"N\")\n",
    "M = obter_inteiro(\"M\")\n",
    "\n",
    "# Calculando divisões inteiras\n",
    "if N % M == 0:\n",
    "    print(f'\\nO numero {N} é divisível por {M}')\n",
    "    print(f'Resultando em número Inteiro: {int(N/M)}')\n",
    "else:\n",
    "    print(f'\\nO numero {N} não é divisível por {M}')\n",
    "    print(f'Pois não resulta em número um Inteiro: {N/M}')\n"
   ]
  },
  {
   "cell_type": "markdown",
   "metadata": {},
   "source": [
    "### 04 - Números primos\n",
    "> Um número **N** é primo se e somente se é divisível por 1, -1, por **N** e por -**N**.  \n",
    "\n",
    "Escreva um script que verifica se ```N``` é um número primo, verificando se ```N``` é divisível por todos os números de ```1``` a ```N-1```. Você vai precisar usar alguma ferramenta de *loop* que você aprendeu para isto. No final, devolva uma mensagem no output indicando se o número é primo ou não."
   ]
  },
  {
   "cell_type": "code",
   "execution_count": 65,
   "metadata": {},
   "outputs": [
    {
     "name": "stdin",
     "output_type": "stream",
     "text": [
      "Qual o Valor para N?  13\n"
     ]
    },
    {
     "name": "stdout",
     "output_type": "stream",
     "text": [
      "13 é um número primo.\n"
     ]
    }
   ],
   "source": [
    "N = 47\n",
    "\n",
    "# seu código abaixo\n",
    "while True:\n",
    "    N = input('Qual o Valor para N? ').strip()\n",
    "\n",
    "    # Garantir que a resposta seja um número inteiro\n",
    "    if N.isdigit():  # Verifica se a string é composta apenas por dígitos\n",
    "        N = int(N)  # Convertendo para inteiro\n",
    "        break  \n",
    "    else:\n",
    "        print('\\nResposta inválida. Por favor, digite um número.')\n",
    "\n",
    "# Função para verificar se o número é primo\n",
    "def verificar_primo(N):\n",
    "    if N <= 1:\n",
    "        return f'{N} não é primo, pois números menores ou iguais a 1 não são primos.'\n",
    "    \n",
    "    for i in range(2, N):  # Verifica de 2 até N-1\n",
    "        if N % i == 0:  # Se houver um divisor de N que não seja 1 ou N\n",
    "            return f'{N} não é primo, pois é divisível por {i}.'\n",
    "    \n",
    "    return f'{N} é um número primo.'\n",
    "\n",
    "# Chama a função com o valor de N e imprime o resultado\n",
    "resultado = verificar_primo(N)\n",
    "print(resultado)\n"
   ]
  },
  {
   "cell_type": "markdown",
   "metadata": {},
   "source": [
    "### 05 - Desafio\n",
    "O algorítmo do exercício anterior não é o mais eficiente. O que você pode fazer para deixá-lo mais eficiente? Ou seja, executar menos comparações, portanto consumir menos tempo.\n",
    "1. Será que precisamos correr o loop até o final sempre?\n",
    "2. Será que precisamos mesmo verificar **todos** os números?\n",
    "3. Será que precisamos ir até N-1?\n",
    "\n",
    "Essas perguntas levam ao tipo de pensamento voltado a deixar um algoritmo mais eficiente. Veja se você consegue melhorar o seu."
   ]
  },
  {
   "cell_type": "code",
   "execution_count": 75,
   "metadata": {},
   "outputs": [
    {
     "name": "stdin",
     "output_type": "stream",
     "text": [
      "Digite um número:  11\n"
     ]
    },
    {
     "name": "stdout",
     "output_type": "stream",
     "text": [
      "\n",
      "O número 11 É PRIMO!\n"
     ]
    }
   ],
   "source": [
    "N = 98\n",
    "\n",
    "# seu código aqui\n",
    "\n",
    "N = int(input('Digite um número: '))\n",
    "\n",
    "\n",
    "# Considerações rápidas\n",
    "if N <= 1:\n",
    "    print(f'O número {N} NÃO é primo!')\n",
    "else:\n",
    "    tot = 0\n",
    "    # Verifica divisibilidade até a raiz quadrada do número\n",
    "    for c in range(1, int(N ** 0.5) + 1):\n",
    "        if N % c == 0:\n",
    "            tot += 1\n",
    "            if c != N // c:  # Se c não for o mesmo que num // c, contar o divisor complementar também\n",
    "                tot += 1\n",
    "        if tot > 2:  # Se mais de 2 divisores encontrados, já sabemos que não é primo\n",
    "            break\n",
    "\n",
    "    if tot == 2:\n",
    "        print(f'\\nO número {N} É PRIMO!')\n",
    "    else:\n",
    "        print(f'\\nO número {N} NÃO É PRIMO!')\n"
   ]
  },
  {
   "cell_type": "markdown",
   "metadata": {},
   "source": [
    "### 06 - Peso ideal 1\n",
    "O IMC (índice de massa corpórea) é um indicador de saúde mais bem aceito que o peso. Ele é calculado como:\n",
    "\n",
    "$$ IMC = \\dfrac{peso}{altura^2}$$\n",
    "\n",
    "Segundo a OMS, valores *normais* são entre 18.5 e 24.9.\n",
    "\n",
    "Sua tarefa é encontrar o ponto médio dessa faixa."
   ]
  },
  {
   "cell_type": "code",
   "execution_count": 7,
   "metadata": {},
   "outputs": [
    {
     "name": "stdout",
     "output_type": "stream",
     "text": [
      "\n",
      "O ponto médio da faixa de IMC normal é: 21.7\n",
      "\n"
     ]
    },
    {
     "data": {
      "text/plain": [
       "21.7"
      ]
     },
     "execution_count": 7,
     "metadata": {},
     "output_type": "execute_result"
    }
   ],
   "source": [
    "limite_inferior = 18.5\n",
    "limite_superior = 24.9\n",
    "\n",
    "ponto_medio = (limite_inferior + limite_superior) / 2\n",
    "\n",
    "print(f'\\nO ponto médio da faixa de IMC normal é: {ponto_medio:.1f}\\n')\n",
    "\n",
    "imc_ideal = ponto_medio\n",
    "imc_ideal"
   ]
  },
  {
   "cell_type": "markdown",
   "metadata": {},
   "source": [
    "### 07 - Peso ideal 2\n",
    "Recebendo um valor de altura, encontre o peso '*ideal*' dessa pessoa, que fornece o IMC encontrado acima"
   ]
  },
  {
   "cell_type": "code",
   "execution_count": 15,
   "metadata": {},
   "outputs": [
    {
     "name": "stdout",
     "output_type": "stream",
     "text": [
      "\n",
      "O seu peso ideal é: 62.7 Kilos\n",
      "\n"
     ]
    },
    {
     "data": {
      "text/plain": [
       "62.712999999999994"
      ]
     },
     "execution_count": 15,
     "metadata": {},
     "output_type": "execute_result"
    }
   ],
   "source": [
    "altura = 1.70\n",
    "\n",
    "# Seu código\n",
    "peso_ideal = imc_ideal * (altura**2)\n",
    "print(f'\\nO seu peso ideal é: {peso_ideal:.1f} Kgs\\n')\n",
    "\n",
    "peso_ideal\n"
   ]
  },
  {
   "cell_type": "markdown",
   "metadata": {},
   "source": [
    "### 08 - Peso ideal 3\n",
    "Dada uma lista contendo as alturas de pacientes, crie uma nova lista que contenha o peso '*ideal*' (que fornece o IMC calculado em **Peso ideal 1**) desses pacientes."
   ]
  },
  {
   "cell_type": "code",
   "execution_count": 25,
   "metadata": {},
   "outputs": [
    {
     "data": {
      "text/plain": [
       "[82.51, 91.19, 62.71, 59.08]"
      ]
     },
     "execution_count": 25,
     "metadata": {},
     "output_type": "execute_result"
    }
   ],
   "source": [
    "lista_alturas = [1.95, 2.05, 1.70, 1.65]\n",
    "\n",
    "lista_peso_ideal = []\n",
    "\n",
    "# seu código\n",
    "\n",
    "for cont in range(len(lista_alturas)):\n",
    "    altura = lista_alturas[cont]\n",
    "    lista_peso_ideal.append(round(imc_ideal * (altura ** 2), 2))\n",
    "\n",
    "\n",
    "lista_peso_ideal"
   ]
  },
  {
   "cell_type": "markdown",
   "metadata": {},
   "source": [
    "### 09 - Peso ideal 4\n",
    "Dada uma lista de tuplas - cada elemento da lista é uma tupla contendo altura e peso de um paciente - crie uma nova lista com o IMC desses pacientes."
   ]
  },
  {
   "cell_type": "code",
   "execution_count": 41,
   "metadata": {},
   "outputs": [
    {
     "name": "stdout",
     "output_type": "stream",
     "text": [
      "1.8\n"
     ]
    },
    {
     "data": {
      "text/plain": [
       "[27.78, 27.55, 19.19]"
      ]
     },
     "execution_count": 41,
     "metadata": {},
     "output_type": "execute_result"
    }
   ],
   "source": [
    "altura_peso = [(1.80, 90), (1.65, 75), (1.91, 70)]\n",
    "\n",
    "imc = []\n",
    "\n",
    "# seu código\n",
    "\n",
    "for cond in range(len(altura_peso)):\n",
    "    imc_calc = (altura_peso[cond][1])/((altura_peso[cond][0])**2)\n",
    "    imc.append(round(imc_calc, 2))\n",
    "\n",
    "imc"
   ]
  },
  {
   "cell_type": "markdown",
   "metadata": {},
   "source": [
    "### 10 - Peso ideal 5\n",
    "Dada uma lista de **listas** - cada elemento da lista é uma **lista** contendo altura e peso de um paciente, adicione mais um elemento à lista de cada paciente contendo o IMC do paciente. Verifique também se é 'baixo', 'normal' ou 'alto' segundo os padrões da OMS em que normal é entre 18.5 e 24.9.\n",
    "\n",
    "Reflexão: por que no problema anterior temos que criar uma nova lista, e não podemos adicionar os dados de cada indivíduo à tupla?"
   ]
  },
  {
   "cell_type": "code",
   "execution_count": 51,
   "metadata": {},
   "outputs": [
    {
     "data": {
      "text/plain": [
       "[[1.8, 90, 27.78, 'alto'],\n",
       " [1.65, 75, 27.55, 'alto'],\n",
       " [1.91, 70, 19.19, 'normal']]"
      ]
     },
     "execution_count": 51,
     "metadata": {},
     "output_type": "execute_result"
    }
   ],
   "source": [
    "altura_peso = [[1.80, 90], [1.65, 75], [1.91, 70]]\n",
    "\n",
    "# seu código\n",
    "\n",
    "for cond in range(len(altura_peso)):\n",
    "    imc_calc = (altura_peso[cond][1])/((altura_peso[cond][0])**2)\n",
    "    imc.append(round(imc_calc, 2))\n",
    "    altura_peso[cond].append(imc[cond])\n",
    "    if imc[cond] < 18.5:\n",
    "        stats = ('baixo')\n",
    "    elif imc[cond] > 24.9:\n",
    "        stats = ('alto')\n",
    "    else:\n",
    "        stats = ('normal')\n",
    "    altura_peso[cond].append(stats)\n",
    "\n",
    "altura_peso"
   ]
  },
  {
   "cell_type": "code",
   "execution_count": null,
   "metadata": {},
   "outputs": [],
   "source": []
  }
 ],
 "metadata": {
  "kernelspec": {
   "display_name": "Python 3 (ipykernel)",
   "language": "python",
   "name": "python3"
  },
  "language_info": {
   "codemirror_mode": {
    "name": "ipython",
    "version": 3
   },
   "file_extension": ".py",
   "mimetype": "text/x-python",
   "name": "python",
   "nbconvert_exporter": "python",
   "pygments_lexer": "ipython3",
   "version": "3.12.7"
  }
 },
 "nbformat": 4,
 "nbformat_minor": 4
}
